{
 "cells": [
  {
   "cell_type": "code",
   "execution_count": 2,
   "metadata": {},
   "outputs": [],
   "source": [
    "import numpy as np\n",
    "import pandas as pd\n",
    "#Ler e armazenar o arquivo em uma variável\n",
    "#Arquivo dentro da mesma pasta ou copiar o endereço + '\\' o nome do arquivo + '.csv'\n",
    "#Editando Encoding e renomeando \n",
    "vendas_df = pd.read_csv('Contoso - Vendas - 2017.csv', sep=';', encoding='latin-1')\n",
    "produtos_df = pd.read_csv('Contoso - Cadastro Produtos.csv', sep=';', encoding='latin-1').rename(columns={'ÿNome do Produto': 'Nome do Produto'})\n",
    "lojas_df = pd.read_csv('Contoso - Lojas.csv', sep=';', encoding='latin-1').rename(columns={'ÿID Loja': 'ID Loja'})\n",
    "clientes_df = pd.read_csv('Contoso - Clientes.csv', sep=';', encoding='latin-1').rename(columns={'ÿID Cliente': 'ID Cliente'})"
   ]
  },
  {
   "cell_type": "code",
   "execution_count": 3,
   "metadata": {},
   "outputs": [],
   "source": [
    "#Removendo colunas inúteis\n",
    "clientes_df = clientes_df.drop(['Unnamed: 7', 'Unnamed: 8', 'Unnamed: 9', 'Unnamed: 10'], axis=1)\n"
   ]
  },
  {
   "cell_type": "code",
   "execution_count": null,
   "metadata": {},
   "outputs": [],
   "source": [
    "#Inserindo colunas\n",
    "vendas_df = vendas_df.merge(produtos_df, on='ID Produto')\n",
    "vendas_df = vendas_df.merge(lojas_df, on='ID Loja')\n",
    "vendas_df = vendas_df.merge(clientes_df, on='ID Cliente')\n",
    "#Exibir mais de uma tabela\n",
    "display(vendas_df)"
   ]
  }
 ],
 "metadata": {
  "kernelspec": {
   "display_name": "Python 3",
   "language": "python",
   "name": "python3"
  },
  "language_info": {
   "codemirror_mode": {
    "name": "ipython",
    "version": 3
   },
   "file_extension": ".py",
   "mimetype": "text/x-python",
   "name": "python",
   "nbconvert_exporter": "python",
   "pygments_lexer": "ipython3",
   "version": "3.12.2"
  }
 },
 "nbformat": 4,
 "nbformat_minor": 2
}
